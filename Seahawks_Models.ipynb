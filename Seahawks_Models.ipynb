{
 "cells": [
  {
   "cell_type": "markdown",
   "metadata": {},
   "source": [
    "# Model Setup:"
   ]
  },
  {
   "cell_type": "markdown",
   "metadata": {},
   "source": [
    "### Import Datasets"
   ]
  },
  {
   "cell_type": "code",
   "execution_count": 34,
   "metadata": {},
   "outputs": [],
   "source": [
    "import pandas as pd\n",
    "import numpy as np\n",
    "\n",
    "# stnl\n",
    "stnl = pd.read_csv(\"/Users/dan/calpoly/BusinessAnalytics/GSB503HAWKS/data/bucketDataWithoutSTH/stnl_without_sth_bucket.csv\")\n",
    "# bp\n",
    "bp = pd.read_csv(\"/Users/dan/calpoly/BusinessAnalytics/GSB503HAWKS/data/bucketDataWithoutSTH/bp_without_sth_bucket.csv\")\n",
    "# sth\n",
    "sth = pd.read_csv(\"/Users/dan/calpoly/BusinessAnalytics/GSB503HAWKS/data/bucketDataWithoutSTH/sth_without_sth_bucket.csv\")\n",
    "# lost\n",
    "lost1 = pd.read_csv(\"/Users/dan/calpoly/BusinessAnalytics/GSB503HAWKS/data/bucketDataWithoutSTH/lost1_without_sth_bucket.csv\")\n",
    "lost2 = pd.read_csv(\"/Users/dan/calpoly/BusinessAnalytics/GSB503HAWKS/data/bucketDataWithoutSTH/lost2_without_sth_bucket.csv\")\n",
    "lost3 = pd.read_csv(\"/Users/dan/calpoly/BusinessAnalytics/GSB503HAWKS/data/bucketDataWithoutSTH/lost3_without_sth_bucket.csv\")\n",
    "lost4 = pd.read_csv(\"/Users/dan/calpoly/BusinessAnalytics/GSB503HAWKS/data/bucketDataWithoutSTH/lost4_without_sth_bucket.csv\")\n",
    "lost5 = pd.read_csv(\"/Users/dan/calpoly/BusinessAnalytics/GSB503HAWKS/data/bucketDataWithoutSTH/lost5_without_sth_bucket.csv\")\n",
    "lost = pd.concat([lost1, lost2, lost3, lost4, lost5])"
   ]
  },
  {
   "cell_type": "code",
   "execution_count": 35,
   "metadata": {},
   "outputs": [],
   "source": [
    "def choose_variables(df):\n",
    "    df_dropped = df.drop(\n",
    "        ['CUSTOMER_KEY','year', 'month', 'LOB_SEAHAWKS', 'LOB_FGI', 'Totals', 'CAMPAIGN_LOST', 'AVG_TIME_DAYS_purchase', 'forward_receipt', 'initial_creation',\n",
    "         'email_click', 'email_incoming_from_customer', 'email_outgoing_to_customer', 'survey_submission', 'email_open',\n",
    "         'email_sub', 'email_unsub'], axis=1, errors= 'ignore')\n",
    "    return df_dropped"
   ]
  },
  {
   "cell_type": "markdown",
   "metadata": {},
   "source": [
    "# Set-up (STNL to BP):"
   ]
  },
  {
   "cell_type": "markdown",
   "metadata": {},
   "source": [
    "- Filter lost lists by CAMPAIGN_LOST\n",
    "- Add conversion, 0, to indicate they were lost (lost list)\n",
    "- Add conversion, 1, to indicate they have advanced (bp list)\n",
    "- Take out unneeded columns with *choose_variables*\n",
    "- Put lists together for modeling on *CONVERSION*"
   ]
  },
  {
   "cell_type": "code",
   "execution_count": 36,
   "metadata": {},
   "outputs": [],
   "source": [
    "# Filter\n",
    "stnl_to_bp = lost[lost[\"CAMPAIGN_LOST\"] == \"STNL to BP\"].copy()\n",
    "# Add conversion scores\n",
    "stnl_to_bp[\"CONVERSION\"] = 0\n",
    "bp[\"CONVERSION\"] = 1\n",
    "# Further Filter\n",
    "stnl_to_bp = choose_variables(stnl_to_bp)\n",
    "bp = choose_variables(bp)\n",
    "stnl_to_bp_model = pd.concat([stnl_to_bp, bp])\n",
    "# Clean some na values in data\n",
    "stnl_to_bp_model[\"percent_open\"] = stnl_to_bp_model[\"percent_open\"].fillna(0)\n",
    "stnl_to_bp_model[\"percent_click\"] = stnl_to_bp_model[\"percent_click\"].fillna(0)\n",
    "stnl_to_bp_model= stnl_to_bp_model.replace(np.inf,1)\n",
    "# read to file\n",
    "stnl_to_bp_model.to_csv(\"/Users/dan/calpoly/BusinessAnalytics/GSB503HAWKS/data/mergeData/stnl_to_bp_modelData.csv\", index=False)"
   ]
  },
  {
   "cell_type": "markdown",
   "metadata": {},
   "source": [
    "# Set-up (BP to STH):"
   ]
  },
  {
   "cell_type": "code",
   "execution_count": 37,
   "metadata": {},
   "outputs": [],
   "source": [
    "# Filter\n",
    "bp_to_sth = lost[lost[\"CAMPAIGN_LOST\"] == \"BP to STH\"].copy()\n",
    "# Add conversion scores\n",
    "bp_to_sth[\"CONVERSION\"] = 0\n",
    "bp[\"CONVERSION\"] = 1\n",
    "# Further Filter\n",
    "bp_to_sth = choose_variables(bp_to_sth)\n",
    "bp = choose_variables(bp)\n",
    "bp_to_sth_model = pd.concat([bp_to_sth, bp])\n",
    "# Clean some na values in data\n",
    "bp_to_sth_model[\"percent_open\"] = bp_to_sth_model[\"percent_open\"].fillna(0)\n",
    "bp_to_sth_model[\"percent_click\"] = bp_to_sth_model[\"percent_click\"].fillna(0)\n",
    "bp_to_sth_model= bp_to_sth_model.replace(np.inf,1)\n",
    "bp_to_sth_model\n",
    "# read to file\n",
    "bp_to_sth_model.to_csv(\"/Users/dan/calpoly/BusinessAnalytics/GSB503HAWKS/data/mergeData/bp_to_sth_modelData.csv\", index=False)"
   ]
  }
 ],
 "metadata": {
  "kernelspec": {
   "display_name": "Python 3",
   "language": "python",
   "name": "python3"
  },
  "language_info": {
   "codemirror_mode": {
    "name": "ipython",
    "version": 3
   },
   "file_extension": ".py",
   "mimetype": "text/x-python",
   "name": "python",
   "nbconvert_exporter": "python",
   "pygments_lexer": "ipython3",
   "version": "3.10.1"
  }
 },
 "nbformat": 4,
 "nbformat_minor": 2
}
